{
 "cells": [
  {
   "cell_type": "code",
   "execution_count": 1,
   "id": "6a4d601d",
   "metadata": {
    "scrolled": true
   },
   "outputs": [],
   "source": [
    "import pandas as pd\n",
    "import numpy as np\n",
    "import matplotlib.pyplot as plt\n",
    "import seaborn as sns"
   ]
  },
  {
   "cell_type": "code",
   "execution_count": 2,
   "id": "11d997c8",
   "metadata": {},
   "outputs": [],
   "source": [
    "train = pd.read_csv('SpaceshipTitanic/train.csv')\n",
    "test = pd.read_csv('SpaceshipTitanic/test.csv')\n",
    "submit = pd.read_csv('SpaceshipTitanic/sample_submission.csv')"
   ]
  },
  {
   "cell_type": "code",
   "execution_count": 3,
   "id": "5e2cf329",
   "metadata": {},
   "outputs": [
    {
     "name": "stdout",
     "output_type": "stream",
     "text": [
      "train set:  (8693, 14)\n",
      "test set:  (4277, 13)\n"
     ]
    }
   ],
   "source": [
    "print('train set: ', train.shape)\n",
    "print('test set: ', test.shape)"
   ]
  },
  {
   "cell_type": "code",
   "execution_count": 4,
   "id": "c19c47c4",
   "metadata": {},
   "outputs": [
    {
     "data": {
      "text/html": [
       "<div>\n",
       "<style scoped>\n",
       "    .dataframe tbody tr th:only-of-type {\n",
       "        vertical-align: middle;\n",
       "    }\n",
       "\n",
       "    .dataframe tbody tr th {\n",
       "        vertical-align: top;\n",
       "    }\n",
       "\n",
       "    .dataframe thead th {\n",
       "        text-align: right;\n",
       "    }\n",
       "</style>\n",
       "<table border=\"1\" class=\"dataframe\">\n",
       "  <thead>\n",
       "    <tr style=\"text-align: right;\">\n",
       "      <th></th>\n",
       "      <th>PassengerId</th>\n",
       "      <th>HomePlanet</th>\n",
       "      <th>CryoSleep</th>\n",
       "      <th>Cabin</th>\n",
       "      <th>Destination</th>\n",
       "      <th>Age</th>\n",
       "      <th>VIP</th>\n",
       "      <th>RoomService</th>\n",
       "      <th>FoodCourt</th>\n",
       "      <th>ShoppingMall</th>\n",
       "      <th>Spa</th>\n",
       "      <th>VRDeck</th>\n",
       "      <th>Name</th>\n",
       "      <th>Transported</th>\n",
       "    </tr>\n",
       "  </thead>\n",
       "  <tbody>\n",
       "    <tr>\n",
       "      <th>0</th>\n",
       "      <td>0001_01</td>\n",
       "      <td>Europa</td>\n",
       "      <td>False</td>\n",
       "      <td>B/0/P</td>\n",
       "      <td>TRAPPIST-1e</td>\n",
       "      <td>39.0</td>\n",
       "      <td>False</td>\n",
       "      <td>0.0</td>\n",
       "      <td>0.0</td>\n",
       "      <td>0.0</td>\n",
       "      <td>0.0</td>\n",
       "      <td>0.0</td>\n",
       "      <td>Maham Ofracculy</td>\n",
       "      <td>False</td>\n",
       "    </tr>\n",
       "    <tr>\n",
       "      <th>1</th>\n",
       "      <td>0002_01</td>\n",
       "      <td>Earth</td>\n",
       "      <td>False</td>\n",
       "      <td>F/0/S</td>\n",
       "      <td>TRAPPIST-1e</td>\n",
       "      <td>24.0</td>\n",
       "      <td>False</td>\n",
       "      <td>109.0</td>\n",
       "      <td>9.0</td>\n",
       "      <td>25.0</td>\n",
       "      <td>549.0</td>\n",
       "      <td>44.0</td>\n",
       "      <td>Juanna Vines</td>\n",
       "      <td>True</td>\n",
       "    </tr>\n",
       "    <tr>\n",
       "      <th>2</th>\n",
       "      <td>0003_01</td>\n",
       "      <td>Europa</td>\n",
       "      <td>False</td>\n",
       "      <td>A/0/S</td>\n",
       "      <td>TRAPPIST-1e</td>\n",
       "      <td>58.0</td>\n",
       "      <td>True</td>\n",
       "      <td>43.0</td>\n",
       "      <td>3576.0</td>\n",
       "      <td>0.0</td>\n",
       "      <td>6715.0</td>\n",
       "      <td>49.0</td>\n",
       "      <td>Altark Susent</td>\n",
       "      <td>False</td>\n",
       "    </tr>\n",
       "  </tbody>\n",
       "</table>\n",
       "</div>"
      ],
      "text/plain": [
       "  PassengerId HomePlanet CryoSleep  Cabin  Destination   Age    VIP  \\\n",
       "0     0001_01     Europa     False  B/0/P  TRAPPIST-1e  39.0  False   \n",
       "1     0002_01      Earth     False  F/0/S  TRAPPIST-1e  24.0  False   \n",
       "2     0003_01     Europa     False  A/0/S  TRAPPIST-1e  58.0   True   \n",
       "\n",
       "   RoomService  FoodCourt  ShoppingMall     Spa  VRDeck             Name  \\\n",
       "0          0.0        0.0           0.0     0.0     0.0  Maham Ofracculy   \n",
       "1        109.0        9.0          25.0   549.0    44.0     Juanna Vines   \n",
       "2         43.0     3576.0           0.0  6715.0    49.0    Altark Susent   \n",
       "\n",
       "   Transported  \n",
       "0        False  \n",
       "1         True  \n",
       "2        False  "
      ]
     },
     "execution_count": 4,
     "metadata": {},
     "output_type": "execute_result"
    }
   ],
   "source": [
    "train.head(3)"
   ]
  },
  {
   "cell_type": "code",
   "execution_count": 5,
   "id": "ee67ac37",
   "metadata": {},
   "outputs": [],
   "source": [
    "data = pd.concat((train, test), sort=False).reset_index(drop=True)"
   ]
  },
  {
   "cell_type": "code",
   "execution_count": 6,
   "id": "bf25bf50",
   "metadata": {},
   "outputs": [
    {
     "data": {
      "text/html": [
       "<div>\n",
       "<style scoped>\n",
       "    .dataframe tbody tr th:only-of-type {\n",
       "        vertical-align: middle;\n",
       "    }\n",
       "\n",
       "    .dataframe tbody tr th {\n",
       "        vertical-align: top;\n",
       "    }\n",
       "\n",
       "    .dataframe thead th {\n",
       "        text-align: right;\n",
       "    }\n",
       "</style>\n",
       "<table border=\"1\" class=\"dataframe\">\n",
       "  <thead>\n",
       "    <tr style=\"text-align: right;\">\n",
       "      <th></th>\n",
       "      <th>missing_count</th>\n",
       "      <th>missing_pct</th>\n",
       "    </tr>\n",
       "  </thead>\n",
       "  <tbody>\n",
       "    <tr>\n",
       "      <th>PassengerId</th>\n",
       "      <td>0</td>\n",
       "      <td>0.000000</td>\n",
       "    </tr>\n",
       "    <tr>\n",
       "      <th>HomePlanet</th>\n",
       "      <td>288</td>\n",
       "      <td>2.220509</td>\n",
       "    </tr>\n",
       "    <tr>\n",
       "      <th>CryoSleep</th>\n",
       "      <td>310</td>\n",
       "      <td>2.390131</td>\n",
       "    </tr>\n",
       "    <tr>\n",
       "      <th>Cabin</th>\n",
       "      <td>299</td>\n",
       "      <td>2.305320</td>\n",
       "    </tr>\n",
       "    <tr>\n",
       "      <th>Destination</th>\n",
       "      <td>274</td>\n",
       "      <td>2.112567</td>\n",
       "    </tr>\n",
       "    <tr>\n",
       "      <th>Age</th>\n",
       "      <td>270</td>\n",
       "      <td>2.081727</td>\n",
       "    </tr>\n",
       "    <tr>\n",
       "      <th>VIP</th>\n",
       "      <td>296</td>\n",
       "      <td>2.282190</td>\n",
       "    </tr>\n",
       "    <tr>\n",
       "      <th>RoomService</th>\n",
       "      <td>263</td>\n",
       "      <td>2.027756</td>\n",
       "    </tr>\n",
       "    <tr>\n",
       "      <th>FoodCourt</th>\n",
       "      <td>289</td>\n",
       "      <td>2.228219</td>\n",
       "    </tr>\n",
       "    <tr>\n",
       "      <th>ShoppingMall</th>\n",
       "      <td>306</td>\n",
       "      <td>2.359291</td>\n",
       "    </tr>\n",
       "    <tr>\n",
       "      <th>Spa</th>\n",
       "      <td>284</td>\n",
       "      <td>2.189668</td>\n",
       "    </tr>\n",
       "    <tr>\n",
       "      <th>VRDeck</th>\n",
       "      <td>268</td>\n",
       "      <td>2.066307</td>\n",
       "    </tr>\n",
       "    <tr>\n",
       "      <th>Name</th>\n",
       "      <td>294</td>\n",
       "      <td>2.266769</td>\n",
       "    </tr>\n",
       "    <tr>\n",
       "      <th>Transported</th>\n",
       "      <td>4277</td>\n",
       "      <td>32.976099</td>\n",
       "    </tr>\n",
       "  </tbody>\n",
       "</table>\n",
       "</div>"
      ],
      "text/plain": [
       "              missing_count  missing_pct\n",
       "PassengerId               0     0.000000\n",
       "HomePlanet              288     2.220509\n",
       "CryoSleep               310     2.390131\n",
       "Cabin                   299     2.305320\n",
       "Destination             274     2.112567\n",
       "Age                     270     2.081727\n",
       "VIP                     296     2.282190\n",
       "RoomService             263     2.027756\n",
       "FoodCourt               289     2.228219\n",
       "ShoppingMall            306     2.359291\n",
       "Spa                     284     2.189668\n",
       "VRDeck                  268     2.066307\n",
       "Name                    294     2.266769\n",
       "Transported            4277    32.976099"
      ]
     },
     "execution_count": 6,
     "metadata": {},
     "output_type": "execute_result"
    }
   ],
   "source": [
    "data_missing = pd.DataFrame(data.isnull().sum(), \n",
    "                            columns=['missing_count']).assign(missing_pct=lambda x: x['missing_count']/data.shape[0]*100)\n",
    "data_missing"
   ]
  },
  {
   "cell_type": "code",
   "execution_count": 7,
   "id": "4eac40fc",
   "metadata": {},
   "outputs": [
    {
     "name": "stderr",
     "output_type": "stream",
     "text": [
      "C:\\Users\\cody8\\Anaconda3\\lib\\site-packages\\seaborn\\_decorators.py:36: FutureWarning: Pass the following variable as a keyword arg: x. From version 0.12, the only valid positional argument will be `data`, and passing other arguments without an explicit keyword will result in an error or misinterpretation.\n",
      "  warnings.warn(\n"
     ]
    },
    {
     "data": {
      "text/plain": [
       "<AxesSubplot:xlabel='Transported', ylabel='count'>"
      ]
     },
     "execution_count": 7,
     "metadata": {},
     "output_type": "execute_result"
    },
    {
     "data": {
      "image/png": "[encoded data removed]",
      "text/plain": [
       "<Figure size 432x288 with 1 Axes>"
      ]
     },
     "metadata": {
      "needs_background": "light"
     },
     "output_type": "display_data"
    }
   ],
   "source": [
    "# Transported (Target)\n",
    "\n",
    "sns.countplot(data['Transported'])\n",
    "# data['Transported'].value_counts().plot(kind='bar', xlabel='No of Passengers', ylabel='Transported', \n",
    "#                                         title='Target Distribution') # 不同寫法"
   ]
  },
  {
   "cell_type": "code",
   "execution_count": 8,
   "id": "771ef2d7",
   "metadata": {
    "scrolled": true
   },
   "outputs": [
    {
     "data": {
      "image/png": "[encoded data removed]",
      "text/plain": [
       "<Figure size 1152x360 with 2 Axes>"
      ]
     },
     "metadata": {
      "needs_background": "light"
     },
     "output_type": "display_data"
    }
   ],
   "source": [
    "# HomePlanet\n",
    "\n",
    "fig, ax = plt.subplots(1, 2, figsize=(16, 5))\n",
    "\n",
    "ax0 = data['HomePlanet'].value_counts().plot(kind='bar', ax=ax[0])\n",
    "ax1 = data.groupby('HomePlanet').agg({'Transported': 'mean'}).plot(kind='bar', ax=ax[1])\n",
    "# ax1.set_xlabel('Home Planet')\n",
    "# ax1.set_ylabel('Proportion of Passengers')\n",
    "# ax1.set_title('Proportion of Transported Passengers vs Home Planet')\n",
    "\n",
    "# fig, ax = plt.subplots(1, 2, figsize=(16, 5)) # 另一種寫法，有待研究\n",
    "# sns.countplot(data['HomePlanet'], hue=data['HomePlanet'], ax=ax[0])\n",
    "# sns.countplot(data['HomePlanet'], hue=data['HomePlanet'], ax=ax[1])"
   ]
  },
  {
   "cell_type": "code",
   "execution_count": 9,
   "id": "16dde8ad",
   "metadata": {},
   "outputs": [
    {
     "data": {
      "image/png": "[encoded data removed]",
      "text/plain": [
       "<Figure size 1152x360 with 2 Axes>"
      ]
     },
     "metadata": {
      "needs_background": "light"
     },
     "output_type": "display_data"
    }
   ],
   "source": [
    "# CryoSleep\n",
    "\n",
    "fig, ax  = plt.subplots(1, 2, figsize=(16, 5))\n",
    "\n",
    "ax0 = data['CryoSleep'].value_counts().plot(kind='bar', ax=ax[0])\n",
    "ax1 = data.groupby('CryoSleep').agg({'Transported': 'mean'}).plot(kind='bar', ax=ax[1])\n",
    "\n",
    "# 有 80% 進行低溫睡眠的乘客被傳送"
   ]
  },
  {
   "cell_type": "code",
   "execution_count": 10,
   "id": "b47d456c",
   "metadata": {
    "scrolled": true
   },
   "outputs": [
    {
     "data": {
      "image/png": "[encoded data removed]",
      "text/plain": [
       "<Figure size 1152x720 with 4 Axes>"
      ]
     },
     "metadata": {
      "needs_background": "light"
     },
     "output_type": "display_data"
    }
   ],
   "source": [
    "# Cabin\n",
    "\n",
    "data[['Deck', 'Num', 'Side']] = data['Cabin'].str.split('/', expand=True).fillna('Missing')\n",
    "\n",
    "# Deck, Side\n",
    "\n",
    "fig, ax = plt.subplots(2, 2, figsize=(16, 10))\n",
    "\n",
    "ax00 = data['Deck'].value_counts().sort_index().plot(kind='bar', ax=ax[0][0])\n",
    "ax01 = data.groupby('Deck').agg({'Transported': 'mean'}).plot(kind='bar', ax=ax[0][1])\n",
    "ax10 = data['Side'].value_counts().sort_index().plot(kind='bar', ax=ax[1][0])\n",
    "ax11 = data.groupby('Side').agg({'Transported': 'mean'}).plot(kind='bar', ax=ax[1][1])\n",
    "\n",
    "# 大多人在 Deck=F, G\n",
    "# Deck = B, C 被傳送的比例比較高\n",
    "# Side，P 跟 S 的人數差不多\n",
    "# Side = S 被傳送的比例高一點"
   ]
  },
  {
   "cell_type": "code",
   "execution_count": 11,
   "id": "bedd0a7e",
   "metadata": {},
   "outputs": [
    {
     "data": {
      "image/png": "[encoded data removed]",
      "text/plain": [
       "<Figure size 1152x360 with 2 Axes>"
      ]
     },
     "metadata": {
      "needs_background": "light"
     },
     "output_type": "display_data"
    }
   ],
   "source": [
    "# Destination\n",
    "\n",
    "fig, ax = plt.subplots(1, 2, figsize=(16, 5))\n",
    "\n",
    "ax0 = data['Destination'].value_counts().sort_index().plot(kind='bar', ax=ax[0])\n",
    "ax1 = data.groupby('Destination').agg({'Transported': 'mean'}).plot(kind='bar', ax=ax[1])\n",
    "\n",
    "# 超過一半以上的乘客要前往 TRAPPIST-1e"
   ]
  },
  {
   "cell_type": "code",
   "execution_count": 12,
   "id": "dad90ab2",
   "metadata": {},
   "outputs": [
    {
     "data": {
      "image/png": "[encoded data removed]",
      "text/plain": [
       "<Figure size 1152x360 with 2 Axes>"
      ]
     },
     "metadata": {
      "needs_background": "light"
     },
     "output_type": "display_data"
    }
   ],
   "source": [
    "# VIP\n",
    "\n",
    "fig, ax = plt.subplots(1, 2, figsize=(16, 5))\n",
    "\n",
    "ax0 = data['VIP'].value_counts().sort_index().plot(kind='bar', ax=ax[0])\n",
    "ax1 = data.groupby('VIP').agg({'Transported': 'mean'}).plot(kind='bar', ax=ax[1])"
   ]
  },
  {
   "cell_type": "code",
   "execution_count": 13,
   "id": "d7c09f7e",
   "metadata": {},
   "outputs": [
    {
     "data": {
      "text/plain": [
       "count    12700.000000\n",
       "mean        28.771969\n",
       "std         14.387261\n",
       "min          0.000000\n",
       "25%         19.000000\n",
       "50%         27.000000\n",
       "75%         38.000000\n",
       "max         79.000000\n",
       "Name: Age, dtype: float64"
      ]
     },
     "execution_count": 13,
     "metadata": {},
     "output_type": "execute_result"
    },
    {
     "data": {
      "image/png": "[encoded data removed]",
      "text/plain": [
       "<Figure size 432x288 with 1 Axes>"
      ]
     },
     "metadata": {
      "needs_background": "light"
     },
     "output_type": "display_data"
    }
   ],
   "source": [
    "# Age\n",
    "\n",
    "ax = sns.histplot(data, x='Age', binwidth=1)\n",
    "\n",
    "data['Age'].describe()\n",
    "\n",
    "# 平均年齡 27 歲"
   ]
  },
  {
   "cell_type": "code",
   "execution_count": 14,
   "id": "3757db81",
   "metadata": {},
   "outputs": [
    {
     "data": {
      "text/plain": [
       "Text(0.5, 1.0, '% of Passengers Transported by Age Group')"
      ]
     },
     "execution_count": 14,
     "metadata": {},
     "output_type": "execute_result"
    },
    {
     "data": {
      "image/png": "[encoded data removed]",
      "text/plain": [
       "<Figure size 432x288 with 1 Axes>"
      ]
     },
     "metadata": {
      "needs_background": "light"
     },
     "output_type": "display_data"
    }
   ],
   "source": [
    "agegroup_mapper = {0: '0-9', 1: '10-19', 2: '20-29', 3: '30-39', 4: '40-49', 5: '50-59', 6: '60-69', 7: '70-79', 8: '80-89'}\n",
    "data['AgeGroup'] = data['Age'].apply(lambda x: np.floor(x/10)).map(agegroup_mapper) # np.floor() 向下取最大整數\n",
    "ax = (pd.pivot_table(data, index='AgeGroup', columns='Transported', values='PassengerId', aggfunc='count')\n",
    "     .rename(columns={True: 'True', False: 'False'})\n",
    "     .assign(PctTransported=lambda x: x['True']/(x['True']+x['False'])*100) # ( 被傳送/(被傳送+沒被傳送) )*100\n",
    "     .reset_index()\n",
    "     .plot(kind='bar', x='AgeGroup', y='PctTransported'))\n",
    "ax.set_xlabel('Age Group')\n",
    "ax.set_ylabel('% of Passengers')\n",
    "ax.set_title('% of Passengers Transported by Age Group')\n",
    "\n",
    "# 0-9 歲的 Group 有很高的機率被傳送"
   ]
  },
  {
   "cell_type": "code",
   "execution_count": 15,
   "id": "767dbed6",
   "metadata": {},
   "outputs": [
    {
     "data": {
      "text/html": [
       "<div>\n",
       "<style scoped>\n",
       "    .dataframe tbody tr th:only-of-type {\n",
       "        vertical-align: middle;\n",
       "    }\n",
       "\n",
       "    .dataframe tbody tr th {\n",
       "        vertical-align: top;\n",
       "    }\n",
       "\n",
       "    .dataframe thead th {\n",
       "        text-align: right;\n",
       "    }\n",
       "</style>\n",
       "<table border=\"1\" class=\"dataframe\">\n",
       "  <thead>\n",
       "    <tr style=\"text-align: right;\">\n",
       "      <th></th>\n",
       "      <th>count</th>\n",
       "      <th>mean</th>\n",
       "      <th>std</th>\n",
       "      <th>min</th>\n",
       "      <th>25%</th>\n",
       "      <th>50%</th>\n",
       "      <th>75%</th>\n",
       "      <th>max</th>\n",
       "    </tr>\n",
       "    <tr>\n",
       "      <th>Transported</th>\n",
       "      <th></th>\n",
       "      <th></th>\n",
       "      <th></th>\n",
       "      <th></th>\n",
       "      <th></th>\n",
       "      <th></th>\n",
       "      <th></th>\n",
       "      <th></th>\n",
       "    </tr>\n",
       "  </thead>\n",
       "  <tbody>\n",
       "    <tr>\n",
       "      <th>False</th>\n",
       "      <td>4315.0</td>\n",
       "      <td>2004.149247</td>\n",
       "      <td>3137.414321</td>\n",
       "      <td>0.0</td>\n",
       "      <td>678.0</td>\n",
       "      <td>907.0</td>\n",
       "      <td>2093.0</td>\n",
       "      <td>35987.0</td>\n",
       "    </tr>\n",
       "    <tr>\n",
       "      <th>True</th>\n",
       "      <td>4378.0</td>\n",
       "      <td>885.689127</td>\n",
       "      <td>2297.838344</td>\n",
       "      <td>0.0</td>\n",
       "      <td>0.0</td>\n",
       "      <td>0.0</td>\n",
       "      <td>809.0</td>\n",
       "      <td>31076.0</td>\n",
       "    </tr>\n",
       "  </tbody>\n",
       "</table>\n",
       "</div>"
      ],
      "text/plain": [
       "              count         mean          std  min    25%    50%     75%  \\\n",
       "Transported                                                                \n",
       "False        4315.0  2004.149247  3137.414321  0.0  678.0  907.0  2093.0   \n",
       "True         4378.0   885.689127  2297.838344  0.0    0.0    0.0   809.0   \n",
       "\n",
       "                 max  \n",
       "Transported           \n",
       "False        35987.0  \n",
       "True         31076.0  "
      ]
     },
     "execution_count": 15,
     "metadata": {},
     "output_type": "execute_result"
    },
    {
     "data": {
      "image/png": "[encoded data removed]",
      "text/plain": [
       "<Figure size 432x288 with 1 Axes>"
      ]
     },
     "metadata": {
      "needs_background": "light"
     },
     "output_type": "display_data"
    }
   ],
   "source": [
    "# Spending\n",
    "\n",
    "fill_cols = ['RoomService', 'FoodCourt', 'ShoppingMall', 'Spa', 'VRDeck']\n",
    "data[fill_cols] = data[fill_cols].fillna(0)\n",
    "data['TotalSpend'] = data['RoomService'] + data['FoodCourt'] + data['ShoppingMall'] + data['Spa'] + data['VRDeck']\n",
    "\n",
    "ax = sns.histplot(data, x='TotalSpend', hue='Transported', binwidth=1000, palette=[\"C0\", \"C1\"])\n",
    "ax.set_xlabel('Spending')\n",
    "ax.set_ylabel('No of Passengers')\n",
    "ax.set_title('Passengers Total Spending Distribution')\n",
    "ax.set_xlim(0, 10000)\n",
    "\n",
    "data.groupby('Transported')['TotalSpend'].describe()\n",
    "\n",
    "# 平均支出較少的，被傳送的比例較高"
   ]
  },
  {
   "cell_type": "code",
   "execution_count": 16,
   "id": "0563d295",
   "metadata": {
    "scrolled": false
   },
   "outputs": [
    {
     "name": "stdout",
     "output_type": "stream",
     "text": [
      "Number of Groups:  9280\n"
     ]
    },
    {
     "data": {
      "image/png": "[encoded data removed]",
      "text/plain": [
       "<Figure size 432x288 with 1 Axes>"
      ]
     },
     "metadata": {
      "needs_background": "light"
     },
     "output_type": "display_data"
    }
   ],
   "source": [
    "# Group Level Features\n",
    "\n",
    "data[['PassengerGroup', 'PassengerNo']] = data['PassengerId'].str.split('_', expand=True)\n",
    "print('Number of Groups: ', data.PassengerGroup.nunique())\n",
    "\n",
    "# Number of Passenger Per Group\n",
    "\n",
    "ax = data.PassengerGroup.value_counts().value_counts().plot(kind='bar')\n",
    "\n",
    "# 大多是 1 個人的 Group\n",
    "# 最大的 Group 有 8 人"
   ]
  },
  {
   "cell_type": "code",
   "execution_count": 26,
   "id": "261b0424",
   "metadata": {},
   "outputs": [
    {
     "data": {
      "text/html": [
       "<div>\n",
       "<style scoped>\n",
       "    .dataframe tbody tr th:only-of-type {\n",
       "        vertical-align: middle;\n",
       "    }\n",
       "\n",
       "    .dataframe tbody tr th {\n",
       "        vertical-align: top;\n",
       "    }\n",
       "\n",
       "    .dataframe thead th {\n",
       "        text-align: right;\n",
       "    }\n",
       "</style>\n",
       "<table border=\"1\" class=\"dataframe\">\n",
       "  <thead>\n",
       "    <tr style=\"text-align: right;\">\n",
       "      <th>AllTransported</th>\n",
       "      <th>False</th>\n",
       "      <th>True</th>\n",
       "      <th>PctAllTransported</th>\n",
       "    </tr>\n",
       "    <tr>\n",
       "      <th>PassengerNo</th>\n",
       "      <th></th>\n",
       "      <th></th>\n",
       "      <th></th>\n",
       "    </tr>\n",
       "  </thead>\n",
       "  <tbody>\n",
       "    <tr>\n",
       "      <th>1</th>\n",
       "      <td>4971.0</td>\n",
       "      <td>2174.0</td>\n",
       "      <td>0.304269</td>\n",
       "    </tr>\n",
       "    <tr>\n",
       "      <th>2</th>\n",
       "      <td>1030.0</td>\n",
       "      <td>265.0</td>\n",
       "      <td>0.204633</td>\n",
       "    </tr>\n",
       "    <tr>\n",
       "      <th>3</th>\n",
       "      <td>421.0</td>\n",
       "      <td>81.0</td>\n",
       "      <td>0.161355</td>\n",
       "    </tr>\n",
       "    <tr>\n",
       "      <th>4</th>\n",
       "      <td>132.0</td>\n",
       "      <td>22.0</td>\n",
       "      <td>0.142857</td>\n",
       "    </tr>\n",
       "    <tr>\n",
       "      <th>5</th>\n",
       "      <td>70.0</td>\n",
       "      <td>6.0</td>\n",
       "      <td>0.078947</td>\n",
       "    </tr>\n",
       "    <tr>\n",
       "      <th>6</th>\n",
       "      <td>39.0</td>\n",
       "      <td>3.0</td>\n",
       "      <td>0.071429</td>\n",
       "    </tr>\n",
       "    <tr>\n",
       "      <th>7</th>\n",
       "      <td>46.0</td>\n",
       "      <td>1.0</td>\n",
       "      <td>0.021277</td>\n",
       "    </tr>\n",
       "    <tr>\n",
       "      <th>8</th>\n",
       "      <td>19.0</td>\n",
       "      <td>0.0</td>\n",
       "      <td>0.000000</td>\n",
       "    </tr>\n",
       "  </tbody>\n",
       "</table>\n",
       "</div>"
      ],
      "text/plain": [
       "AllTransported   False    True  PctAllTransported\n",
       "PassengerNo                                      \n",
       "1               4971.0  2174.0           0.304269\n",
       "2               1030.0   265.0           0.204633\n",
       "3                421.0    81.0           0.161355\n",
       "4                132.0    22.0           0.142857\n",
       "5                 70.0     6.0           0.078947\n",
       "6                 39.0     3.0           0.071429\n",
       "7                 46.0     1.0           0.021277\n",
       "8                 19.0     0.0           0.000000"
      ]
     },
     "execution_count": 26,
     "metadata": {},
     "output_type": "execute_result"
    }
   ],
   "source": [
    "# Group Transported\n",
    "\n",
    "(data.groupby('PassengerGroup', as_index=False)\n",
    ".agg({'PassengerNo':'count', 'Transported': lambda x: sum(x == True)})\n",
    ".assign(AllTransported = lambda x: x['Transported'] == x['PassengerNo'])\n",
    ".groupby(['PassengerNo', 'AllTransported'], as_index = False)\n",
    ".agg({'PassengerGroup':'count'})\n",
    ".pivot(index = 'PassengerNo', columns = 'AllTransported', values = 'PassengerGroup')\n",
    ".fillna(0)\n",
    ".rename(columns = {False: 'False', True:'True'})\n",
    ".assign(PctAllTransported = lambda x: x['True']/(x['True'] + x['False'])))\n",
    "\n",
    "# 不確定是否整個 Group 會一起被傳送\n",
    "# 有 Group 越小被傳送機率越高的趨勢"
   ]
  },
  {
   "cell_type": "code",
   "execution_count": 18,
   "id": "096d95b8",
   "metadata": {},
   "outputs": [
    {
     "data": {
      "image/png": "[encoded data removed]",
      "text/plain": [
       "<Figure size 432x288 with 1 Axes>"
      ]
     },
     "metadata": {
      "needs_background": "light"
     },
     "output_type": "display_data"
    }
   ],
   "source": [
    "data['GroupSize'] = data.groupby('PassengerGroup')['PassengerId'].transform('nunique')\n",
    "ax = data.groupby('GroupSize', as_index=False).agg({'Transported': 'mean'}).plot(kind='bar', x='GroupSize', y='Transported')"
   ]
  },
  {
   "cell_type": "code",
   "execution_count": 19,
   "id": "a0715d2e",
   "metadata": {},
   "outputs": [
    {
     "data": {
      "text/html": [
       "<div>\n",
       "<style scoped>\n",
       "    .dataframe tbody tr th:only-of-type {\n",
       "        vertical-align: middle;\n",
       "    }\n",
       "\n",
       "    .dataframe tbody tr th {\n",
       "        vertical-align: top;\n",
       "    }\n",
       "\n",
       "    .dataframe thead th {\n",
       "        text-align: right;\n",
       "    }\n",
       "</style>\n",
       "<table border=\"1\" class=\"dataframe\">\n",
       "  <thead>\n",
       "    <tr style=\"text-align: right;\">\n",
       "      <th></th>\n",
       "      <th>HomePlanetCount</th>\n",
       "      <th>PassengerGroup</th>\n",
       "    </tr>\n",
       "  </thead>\n",
       "  <tbody>\n",
       "    <tr>\n",
       "      <th>0</th>\n",
       "      <td>1</td>\n",
       "      <td>9124</td>\n",
       "    </tr>\n",
       "  </tbody>\n",
       "</table>\n",
       "</div>"
      ],
      "text/plain": [
       "   HomePlanetCount  PassengerGroup\n",
       "0                1            9124"
      ]
     },
     "execution_count": 19,
     "metadata": {},
     "output_type": "execute_result"
    }
   ],
   "source": [
    "# Group Home Planet\n",
    "\n",
    "(data\n",
    " .dropna(subset = ['HomePlanet'])\n",
    " .groupby('PassengerGroup', as_index = False)\n",
    " .agg({'PassengerNo':'count', 'HomePlanet': 'nunique'})\n",
    " .groupby('HomePlanet', as_index = False)\n",
    " .agg({'PassengerNo':'count'})\n",
    " .rename(columns = {'HomePlanet':'HomePlanetCount', 'PassengerNo':'PassengerGroup'})\n",
    ")\n",
    "\n",
    "# 是否整個 Group 都來自同個星球\n",
    "# 同一組 Group 的乘客應該都來自同個星球"
   ]
  },
  {
   "cell_type": "code",
   "execution_count": 20,
   "id": "df340e48",
   "metadata": {},
   "outputs": [
    {
     "data": {
      "text/html": [
       "<div>\n",
       "<style scoped>\n",
       "    .dataframe tbody tr th:only-of-type {\n",
       "        vertical-align: middle;\n",
       "    }\n",
       "\n",
       "    .dataframe tbody tr th {\n",
       "        vertical-align: top;\n",
       "    }\n",
       "\n",
       "    .dataframe thead th {\n",
       "        text-align: right;\n",
       "    }\n",
       "</style>\n",
       "<table border=\"1\" class=\"dataframe\">\n",
       "  <thead>\n",
       "    <tr style=\"text-align: right;\">\n",
       "      <th></th>\n",
       "      <th>DestinationCount</th>\n",
       "      <th>PassengerGroup</th>\n",
       "    </tr>\n",
       "  </thead>\n",
       "  <tbody>\n",
       "    <tr>\n",
       "      <th>0</th>\n",
       "      <td>1</td>\n",
       "      <td>8056</td>\n",
       "    </tr>\n",
       "    <tr>\n",
       "      <th>1</th>\n",
       "      <td>2</td>\n",
       "      <td>997</td>\n",
       "    </tr>\n",
       "    <tr>\n",
       "      <th>2</th>\n",
       "      <td>3</td>\n",
       "      <td>73</td>\n",
       "    </tr>\n",
       "  </tbody>\n",
       "</table>\n",
       "</div>"
      ],
      "text/plain": [
       "   DestinationCount  PassengerGroup\n",
       "0                 1            8056\n",
       "1                 2             997\n",
       "2                 3              73"
      ]
     },
     "execution_count": 20,
     "metadata": {},
     "output_type": "execute_result"
    }
   ],
   "source": [
    "(data\n",
    " .dropna(subset = ['Destination'])\n",
    " .groupby('PassengerGroup', as_index = False)\n",
    " .agg({'PassengerNo':'count', 'Destination': 'nunique'})\n",
    " .groupby('Destination', as_index = False)\n",
    " .agg({'PassengerNo':'count'})\n",
    " .rename(columns = {'Destination':'DestinationCount', 'PassengerNo':'PassengerGroup'})\n",
    ")"
   ]
  },
  {
   "cell_type": "code",
   "execution_count": 21,
   "id": "4e439dc6",
   "metadata": {},
   "outputs": [
    {
     "data": {
      "text/html": [
       "<div>\n",
       "<style scoped>\n",
       "    .dataframe tbody tr th:only-of-type {\n",
       "        vertical-align: middle;\n",
       "    }\n",
       "\n",
       "    .dataframe tbody tr th {\n",
       "        vertical-align: top;\n",
       "    }\n",
       "\n",
       "    .dataframe thead th {\n",
       "        text-align: right;\n",
       "    }\n",
       "</style>\n",
       "<table border=\"1\" class=\"dataframe\">\n",
       "  <thead>\n",
       "    <tr style=\"text-align: right;\">\n",
       "      <th>AllCryoSleep</th>\n",
       "      <th>False</th>\n",
       "      <th>True</th>\n",
       "      <th>PctGroupCryoSleep</th>\n",
       "    </tr>\n",
       "    <tr>\n",
       "      <th>PassengerNo</th>\n",
       "      <th></th>\n",
       "      <th></th>\n",
       "      <th></th>\n",
       "    </tr>\n",
       "  </thead>\n",
       "  <tbody>\n",
       "    <tr>\n",
       "      <th>1</th>\n",
       "      <td>4905.0</td>\n",
       "      <td>2240.0</td>\n",
       "      <td>0.313506</td>\n",
       "    </tr>\n",
       "    <tr>\n",
       "      <th>2</th>\n",
       "      <td>1094.0</td>\n",
       "      <td>201.0</td>\n",
       "      <td>0.155212</td>\n",
       "    </tr>\n",
       "    <tr>\n",
       "      <th>3</th>\n",
       "      <td>466.0</td>\n",
       "      <td>36.0</td>\n",
       "      <td>0.071713</td>\n",
       "    </tr>\n",
       "    <tr>\n",
       "      <th>4</th>\n",
       "      <td>153.0</td>\n",
       "      <td>1.0</td>\n",
       "      <td>0.006494</td>\n",
       "    </tr>\n",
       "    <tr>\n",
       "      <th>5</th>\n",
       "      <td>74.0</td>\n",
       "      <td>2.0</td>\n",
       "      <td>0.026316</td>\n",
       "    </tr>\n",
       "    <tr>\n",
       "      <th>6</th>\n",
       "      <td>42.0</td>\n",
       "      <td>0.0</td>\n",
       "      <td>0.000000</td>\n",
       "    </tr>\n",
       "    <tr>\n",
       "      <th>7</th>\n",
       "      <td>47.0</td>\n",
       "      <td>0.0</td>\n",
       "      <td>0.000000</td>\n",
       "    </tr>\n",
       "    <tr>\n",
       "      <th>8</th>\n",
       "      <td>19.0</td>\n",
       "      <td>0.0</td>\n",
       "      <td>0.000000</td>\n",
       "    </tr>\n",
       "  </tbody>\n",
       "</table>\n",
       "</div>"
      ],
      "text/plain": [
       "AllCryoSleep   False    True  PctGroupCryoSleep\n",
       "PassengerNo                                    \n",
       "1             4905.0  2240.0           0.313506\n",
       "2             1094.0   201.0           0.155212\n",
       "3              466.0    36.0           0.071713\n",
       "4              153.0     1.0           0.006494\n",
       "5               74.0     2.0           0.026316\n",
       "6               42.0     0.0           0.000000\n",
       "7               47.0     0.0           0.000000\n",
       "8               19.0     0.0           0.000000"
      ]
     },
     "execution_count": 21,
     "metadata": {},
     "output_type": "execute_result"
    }
   ],
   "source": [
    "# Group Cryo Sleep\n",
    "\n",
    "(data\n",
    " .groupby('PassengerGroup', as_index = False)\n",
    " .agg({'PassengerNo':'count', 'CryoSleep': lambda x: sum(x == True)})\n",
    " .assign(AllCryoSleep = lambda x: x['CryoSleep'] == x['PassengerNo'])\n",
    " .groupby(['PassengerNo', 'AllCryoSleep'], as_index = False)\n",
    " .agg({'PassengerGroup':'count'})\n",
    " .pivot(index = 'PassengerNo', columns = 'AllCryoSleep', values = 'PassengerGroup')\n",
    " .fillna(0)\n",
    " .rename(columns = {False: 'False', True:'True'})\n",
    " .assign(PctGroupCryoSleep = lambda x: x['True']/(x['True'] + x['False'])))\n",
    "\n",
    "# 是否整個 Group 進行低溫睡眠都睡一起\n",
    "# 大的 Group 的一起進行低溫睡眠的機率比較小"
   ]
  },
  {
   "cell_type": "code",
   "execution_count": 22,
   "id": "a619c70c",
   "metadata": {},
   "outputs": [
    {
     "data": {
      "text/html": [
       "<div>\n",
       "<style scoped>\n",
       "    .dataframe tbody tr th:only-of-type {\n",
       "        vertical-align: middle;\n",
       "    }\n",
       "\n",
       "    .dataframe tbody tr th {\n",
       "        vertical-align: top;\n",
       "    }\n",
       "\n",
       "    .dataframe thead th {\n",
       "        text-align: right;\n",
       "    }\n",
       "</style>\n",
       "<table border=\"1\" class=\"dataframe\">\n",
       "  <thead>\n",
       "    <tr style=\"text-align: right;\">\n",
       "      <th>VIP</th>\n",
       "      <th>False</th>\n",
       "      <th>True</th>\n",
       "      <th>VIP</th>\n",
       "    </tr>\n",
       "    <tr>\n",
       "      <th>PassengerNo</th>\n",
       "      <th></th>\n",
       "      <th></th>\n",
       "      <th></th>\n",
       "    </tr>\n",
       "  </thead>\n",
       "  <tbody>\n",
       "    <tr>\n",
       "      <th>1</th>\n",
       "      <td>7026.0</td>\n",
       "      <td>119.0</td>\n",
       "      <td>0.016655</td>\n",
       "    </tr>\n",
       "    <tr>\n",
       "      <th>2</th>\n",
       "      <td>1293.0</td>\n",
       "      <td>2.0</td>\n",
       "      <td>0.001544</td>\n",
       "    </tr>\n",
       "    <tr>\n",
       "      <th>3</th>\n",
       "      <td>502.0</td>\n",
       "      <td>0.0</td>\n",
       "      <td>0.000000</td>\n",
       "    </tr>\n",
       "    <tr>\n",
       "      <th>4</th>\n",
       "      <td>154.0</td>\n",
       "      <td>0.0</td>\n",
       "      <td>0.000000</td>\n",
       "    </tr>\n",
       "    <tr>\n",
       "      <th>5</th>\n",
       "      <td>76.0</td>\n",
       "      <td>0.0</td>\n",
       "      <td>0.000000</td>\n",
       "    </tr>\n",
       "    <tr>\n",
       "      <th>6</th>\n",
       "      <td>42.0</td>\n",
       "      <td>0.0</td>\n",
       "      <td>0.000000</td>\n",
       "    </tr>\n",
       "    <tr>\n",
       "      <th>7</th>\n",
       "      <td>47.0</td>\n",
       "      <td>0.0</td>\n",
       "      <td>0.000000</td>\n",
       "    </tr>\n",
       "    <tr>\n",
       "      <th>8</th>\n",
       "      <td>19.0</td>\n",
       "      <td>0.0</td>\n",
       "      <td>0.000000</td>\n",
       "    </tr>\n",
       "  </tbody>\n",
       "</table>\n",
       "</div>"
      ],
      "text/plain": [
       "VIP           False   True       VIP\n",
       "PassengerNo                         \n",
       "1            7026.0  119.0  0.016655\n",
       "2            1293.0    2.0  0.001544\n",
       "3             502.0    0.0  0.000000\n",
       "4             154.0    0.0  0.000000\n",
       "5              76.0    0.0  0.000000\n",
       "6              42.0    0.0  0.000000\n",
       "7              47.0    0.0  0.000000\n",
       "8              19.0    0.0  0.000000"
      ]
     },
     "execution_count": 22,
     "metadata": {},
     "output_type": "execute_result"
    }
   ],
   "source": [
    "# Group VIP\n",
    "\n",
    "(data\n",
    " .groupby('PassengerGroup', as_index = False)\n",
    " .agg({'PassengerNo':'count', 'VIP': lambda x: sum(x == True)})\n",
    " .assign(VIP = lambda x: x['VIP'] == x['PassengerNo'])\n",
    " .groupby(['PassengerNo', 'VIP'], as_index = False)\n",
    " .agg({'PassengerGroup':'count'})\n",
    " .pivot(index = 'PassengerNo', columns = 'VIP', values = 'PassengerGroup')\n",
    " .fillna(0)\n",
    " .rename(columns = {False: 'False', True:'True'})\n",
    " .assign(VIP = lambda x: x['True']/(x['True'] + x['False'])))"
   ]
  },
  {
   "cell_type": "code",
   "execution_count": 24,
   "id": "7779181c",
   "metadata": {},
   "outputs": [
    {
     "name": "stdout",
     "output_type": "stream",
     "text": [
      "<class 'pandas.core.frame.DataFrame'>\n",
      "RangeIndex: 12970 entries, 0 to 12969\n",
      "Data columns (total 22 columns):\n",
      " #   Column          Non-Null Count  Dtype  \n",
      "---  ------          --------------  -----  \n",
      " 0   PassengerId     12970 non-null  object \n",
      " 1   HomePlanet      12682 non-null  object \n",
      " 2   CryoSleep       12660 non-null  object \n",
      " 3   Cabin           12671 non-null  object \n",
      " 4   Destination     12696 non-null  object \n",
      " 5   Age             12700 non-null  float64\n",
      " 6   VIP             12674 non-null  object \n",
      " 7   RoomService     12970 non-null  float64\n",
      " 8   FoodCourt       12970 non-null  float64\n",
      " 9   ShoppingMall    12970 non-null  float64\n",
      " 10  Spa             12970 non-null  float64\n",
      " 11  VRDeck          12970 non-null  float64\n",
      " 12  Name            12676 non-null  object \n",
      " 13  Transported     8693 non-null   object \n",
      " 14  Deck            12970 non-null  object \n",
      " 15  Num             12970 non-null  object \n",
      " 16  Side            12970 non-null  object \n",
      " 17  AgeGroup        12700 non-null  object \n",
      " 18  TotalSpend      12970 non-null  float64\n",
      " 19  PassengerGroup  12970 non-null  object \n",
      " 20  PassengerNo     12970 non-null  object \n",
      " 21  GroupSize       12970 non-null  int64  \n",
      "dtypes: float64(7), int64(1), object(14)\n",
      "memory usage: 2.2+ MB\n"
     ]
    }
   ],
   "source": [
    "data.info()"
   ]
  },
  {
   "cell_type": "code",
   "execution_count": null,
   "id": "b2b26b3b",
   "metadata": {},
   "outputs": [],
   "source": []
  },
  {
   "cell_type": "code",
   "execution_count": null,
   "id": "53057d1b",
   "metadata": {},
   "outputs": [],
   "source": []
  }
 ],
 "metadata": {
  "kernelspec": {
   "display_name": "Python 3 (ipykernel)",
   "language": "python",
   "name": "python3"
  },
  "language_info": {
   "codemirror_mode": {
    "name": "ipython",
    "version": 3
   },
   "file_extension": ".py",
   "mimetype": "text/x-python",
   "name": "python",
   "nbconvert_exporter": "python",
   "pygments_lexer": "ipython3",
   "version": "3.9.12"
  }
 },
 "nbformat": 4,
 "nbformat_minor": 5
}
